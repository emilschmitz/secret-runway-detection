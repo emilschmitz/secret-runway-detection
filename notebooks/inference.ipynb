{
 "cells": [
  {
   "cell_type": "markdown",
   "metadata": {},
   "source": [
    "## Things to try to increase LB score\n",
    "1. Change way in which buffer region is constucted (Cross, Square, Ball)\n",
    "1. Change submission csv method to transpose rows and cols"
   ]
  },
  {
   "cell_type": "markdown",
   "metadata": {},
   "source": [
    "Within first 200 000, we have\n",
    "* PERCENT zeros\n",
    "* PERCENT ones\n",
    "* ie, PERPERCENT rate of ones\n",
    "\n",
    "....We should set threshold accordingly."
   ]
  },
  {
   "cell_type": "markdown",
   "metadata": {},
   "source": [
    "Estimated time for getting 25m rows: ESTIMATE\n",
    "\n",
    "(https://zindi.africa/competitions/geoai-amazon-basin-secret-runway-detection-challenge/discussions/22422)"
   ]
  }
 ],
 "metadata": {
  "language_info": {
   "name": "python"
  }
 },
 "nbformat": 4,
 "nbformat_minor": 2
}
