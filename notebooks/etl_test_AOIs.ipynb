{
 "cells": [
  {
   "cell_type": "markdown",
   "metadata": {},
   "source": [
    "## Fetch images for AOIs"
   ]
  },
  {
   "cell_type": "code",
   "execution_count": 1,
   "metadata": {},
   "outputs": [],
   "source": [
    "DEBUG = False"
   ]
  },
  {
   "cell_type": "code",
   "execution_count": 2,
   "metadata": {},
   "outputs": [],
   "source": [
    "\n",
    "# Imports\n",
    "import os\n",
    "import sys\n",
    "import geopandas as gpd\n",
    "import re \n",
    "from tqdm.notebook import tqdm\n",
    "\n",
    "# Add the src directory to the sys.path\n",
    "sys.path.append(os.path.abspath('..'))\n",
    "\n",
    "# Import functions and constants from inference_utils and train_utils\n",
    "from secret_runway_detection.inference_utils import (\n",
    "    fetch_and_stitch_aoi_quarters,\n",
    ")"
   ]
  },
  {
   "cell_type": "code",
   "execution_count": 3,
   "metadata": {},
   "outputs": [],
   "source": [
    "# Directory containing AOI shapefiles\n",
    "AOI_SHAPEFILES_DIR = '../shp_test_AOIs/shp'  # Adjust the path as necessary\n",
    "\n",
    "# List all shapefiles in the directory\n",
    "aoi_shapefiles = [f for f in os.listdir(AOI_SHAPEFILES_DIR) if f.endswith('.shp')]\n",
    "\n",
    "if DEBUG:\n",
    "    aoi_shapefiles = aoi_shapefiles[:1]\n",
    "\n",
    "# Output directory for images\n",
    "output_dir = '../aoi_mosaic_images'\n",
    "os.makedirs(output_dir, exist_ok=True)"
   ]
  },
  {
   "cell_type": "code",
   "execution_count": 4,
   "metadata": {},
   "outputs": [
    {
     "data": {
      "application/vnd.jupyter.widget-view+json": {
       "model_id": "420b6f06adec4d97980f7cf1f0e7120c",
       "version_major": 2,
       "version_minor": 0
      },
      "text/plain": [
       "  0%|          | 0/11 [00:00<?, ?it/s]"
      ]
     },
     "metadata": {},
     "output_type": "display_data"
    },
    {
     "name": "stdout",
     "output_type": "stream",
     "text": [
      "\n",
      "Processing AOI: aoi_2021_04\n",
      "  Using image dates from 2021-01-01 to 2021-12-31\n"
     ]
    }
   ],
   "source": [
    "\n",
    "# Parameters for image fetching\n",
    "BANDS = ['B4', 'B3', 'B2']  # RGB bands\n",
    "SCALE = 10  # Resolution in meters per pixel\n",
    "CLOUD_COVERAGE = 20  # Maximum cloud coverage percentage\n",
    "\n",
    "# Regular expression pattern to extract year from filename\n",
    "pattern = re.compile(r'aoi_(\\d{4})_\\d{2}')\n",
    "\n",
    "# Iterate over each AOI shapefile and process it\n",
    "for shapefile in tqdm(aoi_shapefiles):\n",
    "    aoi_id = os.path.splitext(shapefile)[0]  # Get the AOI ID from the filename\n",
    "    aoi_shapefile_path = os.path.join(AOI_SHAPEFILES_DIR, shapefile)\n",
    "    print(f\"\\nProcessing AOI: {aoi_id}\")\n",
    "    \n",
    "    # Extract the year from the filename using regex\n",
    "    match = pattern.match(aoi_id)\n",
    "    if match:\n",
    "        year = match.group(1)\n",
    "        IMAGE_START_DATE = f'{year}-01-01'\n",
    "        IMAGE_END_DATE = f'{year}-12-31'\n",
    "        print(f\"  Using image dates from {IMAGE_START_DATE} to {IMAGE_END_DATE}\")\n",
    "    else:\n",
    "        print(f\"  Could not extract year from filename {shapefile}. Skipping this AOI.\")\n",
    "        continue  # Skip this AOI if the year cannot be extracted\n",
    "\n",
    "    # Read the AOI shapefile\n",
    "    aoi_gdf = gpd.read_file(aoi_shapefile_path)\n",
    "    # Ensure the CRS is correct\n",
    "    if aoi_gdf.crs is None:\n",
    "        # Assign a default CRS if none is set\n",
    "        aoi_gdf.set_crs(epsg=4326, inplace=True)\n",
    "    aoi_gdf = aoi_gdf.to_crs('EPSG:4326')  # Adjust to your working CRS\n",
    "    \n",
    "    # Extract the AOI polygon\n",
    "    aoi_polygon = aoi_gdf.geometry.iloc[0]\n",
    "    aoi_crs = aoi_gdf.crs.to_string()\n",
    "    \n",
    "    # Define output filename\n",
    "    output_filename = f'{aoi_id}_mosaic'\n",
    "    \n",
    "    # Call the method to fetch and stitch images\n",
    "    try:\n",
    "        mosaic_path = fetch_and_stitch_aoi_quarters(\n",
    "            aoi_polygon=aoi_polygon,\n",
    "            aoi_crs=aoi_crs,\n",
    "            image_start_date=IMAGE_START_DATE,\n",
    "            image_end_date=IMAGE_END_DATE,\n",
    "            output_dir=output_dir,\n",
    "            output_filename=output_filename,\n",
    "            bands=BANDS,\n",
    "            scale=SCALE,\n",
    "            cloud_coverage=CLOUD_COVERAGE\n",
    "        )\n",
    "        print(f\"Mosaic image saved at: {mosaic_path}\")\n",
    "    except Exception as e:\n",
    "        print(f\"An error occurred while processing AOI {aoi_id}: {e}\")\n"
   ]
  }
 ],
 "metadata": {
  "kernelspec": {
   "display_name": ".venv",
   "language": "python",
   "name": "python3"
  },
  "language_info": {
   "codemirror_mode": {
    "name": "ipython",
    "version": 3
   },
   "file_extension": ".py",
   "mimetype": "text/x-python",
   "name": "python",
   "nbconvert_exporter": "python",
   "pygments_lexer": "ipython3",
   "version": "3.12.3"
  }
 },
 "nbformat": 4,
 "nbformat_minor": 2
}
